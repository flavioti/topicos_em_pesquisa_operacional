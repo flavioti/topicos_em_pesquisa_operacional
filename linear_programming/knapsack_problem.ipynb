{
 "cells": [
  {
   "cell_type": "code",
   "execution_count": 9,
   "metadata": {},
   "outputs": [
    {
     "name": "stdout",
     "output_type": "stream",
     "text": [
      "Requirement already satisfied: pip in /opt/homebrew/anaconda3/envs/python-3-10-6/lib/python3.10/site-packages (23.2.1)\n",
      "Note: you may need to restart the kernel to use updated packages.\n",
      "Requirement already satisfied: PuLP==2.7.0 in /opt/homebrew/anaconda3/envs/python-3-10-6/lib/python3.10/site-packages (2.7.0)\n",
      "Note: you may need to restart the kernel to use updated packages.\n"
     ]
    }
   ],
   "source": [
    "%pip install --upgrade pip\n",
    "%pip install PuLP==2.7.0"
   ]
  },
  {
   "cell_type": "code",
   "execution_count": 10,
   "metadata": {},
   "outputs": [],
   "source": [
    "from pulp import LpBinary, LpProblem, LpMaximize, LpVariable, lpDot, PULP_CBC_CMD"
   ]
  },
  {
   "cell_type": "code",
   "execution_count": 11,
   "metadata": {},
   "outputs": [],
   "source": [
    "# three datasets (small/medium/large)\n",
    "# each contains weights / prices / knapsack carry weight\n",
    "data = [\n",
    "    [\n",
    "        \"Small\",\n",
    "        [12, 7, 11, 8, 9],\n",
    "        [24, 13, 23, 15, 16],\n",
    "        26,\n",
    "    ],\n",
    "    [\n",
    "        \"Medium\",\n",
    "        [23, 31, 29, 44, 53, 38, 63, 85, 89, 82],\n",
    "        [92, 57, 49, 68, 60, 43, 67, 84, 87, 72],\n",
    "        165,\n",
    "    ],\n",
    "    [\n",
    "        \"Large\",\n",
    "        [382745, 799601, 909247, 729069, 467902, 44328, 34610, 698150, 823460, 903959, 853665, 551830, 610856, 670702, 488960, 951111, 323046, 446298, 931161, 31385, 496951, 264724, 224916, 169684],\n",
    "        [825594, 1677009, 1676628, 1523970, 943972, 97426, 69666, 1296457, 1679693, 1902996, 1844992, 1049289, 1252836, 1319836, 953277, 2067538, 675367, 853655, 1826027, 65731, 901489, 577243, 466257, 369261],\n",
    "        6404180,\n",
    "    ],\n",
    "]"
   ]
  },
  {
   "cell_type": "code",
   "execution_count": 12,
   "metadata": {},
   "outputs": [
    {
     "name": "stdout",
     "output_type": "stream",
     "text": [
      "Small\n",
      "-----\n",
      "price: 51.0\n",
      "take: 0.0 1.0 1.0 1.0 0.0\n",
      "\n",
      "Medium\n",
      "------\n",
      "price: 309.0\n",
      "take: 1.0 1.0 1.0 1.0 0.0 1.0 0.0 0.0 0.0 0.0\n",
      "\n",
      "Large\n",
      "-----\n",
      "price: 13549094.0\n",
      "take: 1.0 1.0 0.0 1.0 1.0 1.0 0.0 0.0 0.0 1.0 1.0 0.0 1.0 0.0 0.0 1.0 0.0 0.0 0.0 0.0 0.0 1.0 1.0 1.0\n",
      "\n"
     ]
    }
   ],
   "source": [
    "for name, weights, prices, carry_weight in data:\n",
    "    n = len(weights)\n",
    "\n",
    "    model = LpProblem(sense=LpMaximize)\n",
    "\n",
    "    # variables - binary based on if we take the item or not\n",
    "    variables = [LpVariable(name=f\"x_{i}\", cat=LpBinary) for i in range(n)]\n",
    "\n",
    "    # inequalities - don't exceed the carry weight\n",
    "    model += lpDot(weights, variables) <= carry_weight\n",
    "\n",
    "    # objective function - price of the items we take\n",
    "    model += lpDot(prices, variables)\n",
    "\n",
    "    status = model.solve(PULP_CBC_CMD(msg=False))\n",
    "\n",
    "    print(name + \"\\n\" + \"-\" * len(name))\n",
    "    print(\"price:\", model.objective.value())\n",
    "    print(\"take:\", *[variables[i].value() for i in range(n)])\n",
    "    print()"
   ]
  }
 ],
 "metadata": {
  "kernelspec": {
   "display_name": ".venv",
   "language": "python",
   "name": "python3"
  },
  "language_info": {
   "codemirror_mode": {
    "name": "ipython",
    "version": 3
   },
   "file_extension": ".py",
   "mimetype": "text/x-python",
   "name": "python",
   "nbconvert_exporter": "python",
   "pygments_lexer": "ipython3",
   "version": "3.10.6"
  },
  "orig_nbformat": 4
 },
 "nbformat": 4,
 "nbformat_minor": 2
}
