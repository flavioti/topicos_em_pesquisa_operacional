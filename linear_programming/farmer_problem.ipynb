{
 "cells": [
  {
   "cell_type": "code",
   "execution_count": null,
   "metadata": {},
   "outputs": [],
   "source": [
    "%pip install --upgrade pip\n",
    "%pip install PuLP==2.7.0"
   ]
  },
  {
   "cell_type": "code",
   "execution_count": 2,
   "metadata": {},
   "outputs": [],
   "source": [
    "from pulp import PULP_CBC_CMD, LpMaximize, LpProblem, LpVariable"
   ]
  },
  {
   "cell_type": "code",
   "execution_count": 3,
   "metadata": {},
   "outputs": [],
   "source": [
    "# creating the model\n",
    "model = LpProblem(sense=LpMaximize)\n",
    "\n",
    "# variables - how much do we plant?\n",
    "x_p = LpVariable(name=\"potatoes\", lowBound=0)\n",
    "x_c = LpVariable(name=\"carrots\", lowBound=0)\n",
    "\n",
    "# inequalities - don't use more than we have\n",
    "model += x_p <= 3000  # potatoes\n",
    "model += x_c <= 4000  # carrots\n",
    "model += x_p + x_c <= 5000  # fertilizer\n",
    "\n",
    "# objective function - maximize the profit\n",
    "model += x_p * 1.2 + x_c * 1.7"
   ]
  },
  {
   "cell_type": "code",
   "execution_count": 4,
   "metadata": {},
   "outputs": [
    {
     "name": "stdout",
     "output_type": "stream",
     "text": [
      "potatoes: 1000.0\n",
      "carrots: 4000.0\n",
      "profit: 8000.0\n"
     ]
    }
   ],
   "source": [
    "# solve (ignoring debug messages)\n",
    "status = model.solve(PULP_CBC_CMD(msg=False))\n",
    "\n",
    "print(\"potatoes:\", x_p.value())\n",
    "print(\"carrots:\", x_c.value())\n",
    "print(\"profit:\", model.objective.value())"
   ]
  }
 ],
 "metadata": {
  "kernelspec": {
   "display_name": ".venv",
   "language": "python",
   "name": "python3"
  },
  "language_info": {
   "codemirror_mode": {
    "name": "ipython",
    "version": 3
   },
   "file_extension": ".py",
   "mimetype": "text/x-python",
   "name": "python",
   "nbconvert_exporter": "python",
   "pygments_lexer": "ipython3",
   "version": "3.10.6"
  },
  "orig_nbformat": 4
 },
 "nbformat": 4,
 "nbformat_minor": 2
}
